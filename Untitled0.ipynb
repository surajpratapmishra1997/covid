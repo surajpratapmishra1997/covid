{
  "nbformat": 4,
  "nbformat_minor": 0,
  "metadata": {
    "colab": {
      "provenance": [],
      "authorship_tag": "ABX9TyNwOwEekhHcSO+aVEMllXua",
      "include_colab_link": true
    },
    "kernelspec": {
      "name": "python3",
      "display_name": "Python 3"
    },
    "language_info": {
      "name": "python"
    }
  },
  "cells": [
    {
      "cell_type": "markdown",
      "metadata": {
        "id": "view-in-github",
        "colab_type": "text"
      },
      "source": [
        "<a href=\"https://colab.research.google.com/github/surajpratapmishra1997/covid/blob/main/Untitled0.ipynb\" target=\"_parent\"><img src=\"https://colab.research.google.com/assets/colab-badge.svg\" alt=\"Open In Colab\"/></a>"
      ]
    },
    {
      "cell_type": "code",
      "execution_count": 5,
      "metadata": {
        "id": "eBaHzoru7Fz4"
      },
      "outputs": [],
      "source": [
        "from tensorflow.keras.layers import Input, Lambda, Dense, Flatten, AveragePooling2D, Dropout\n",
        "from tensorflow.keras.models import Model, load_model\n",
        "from tensorflow.keras.applications.resnet50 import ResNet50\n",
        "from tensorflow.keras.applications.resnet50 import preprocess_input\n",
        "from tensorflow.keras.preprocessing import image\n",
        "from tensorflow.keras.preprocessing.image import ImageDataGenerator\n",
        "from sklearn.metrics import confusion_matrix, roc_curve\n",
        "import seaborn as sns\n",
        "import numpy as np\n",
        "import matplotlib.pyplot as plt\n",
        "import cv2\n",
        "from glob import glob\n",
        "from keras.callbacks import ModelCheckpoint, EarlyStopping\n",
        "from sklearn.model_selection import train_test_split\n",
        "from sklearn.preprocessing import LabelBinarizer\n",
        "from tensorflow.keras.utils import to_categorical\n"
      ]
    },
    {
      "cell_type": "code",
      "source": [
        "### Define Few Parameters\n",
        "#define size to which images are to be resized\n",
        "IMAGE_SIZE = [224, 224]\n",
        "# training config\n",
        "epochs = 50\n",
        "batch_size = 8\n",
        "#define paths\n",
        "covid_path = content/drive/MyDrive/COVID Detection/CT_COVID\n",
        "noncovid_path = content/drive/MyDrive/COVID Detection/CT_NonCOVID\n",
        "# Use glob to grab images from path .jpg or jpeg\n",
        "covid_files = glob(covid_path + '/*')\n",
        "noncovid_files = glob(noncovid_path + '/*')\n",
        ""
      ],
      "metadata": {
        "colab": {
          "base_uri": "https://localhost:8080/",
          "height": 140
        },
        "id": "liedJPRn8kK8",
        "outputId": "7ed0732f-c49b-4df1-d8f1-f77f9a33366b"
      },
      "execution_count": 28,
      "outputs": [
        {
          "output_type": "error",
          "ename": "SyntaxError",
          "evalue": "invalid syntax (<ipython-input-28-a94399ed7ea5>, line 8)",
          "traceback": [
            "\u001b[0;36m  File \u001b[0;32m\"<ipython-input-28-a94399ed7ea5>\"\u001b[0;36m, line \u001b[0;32m8\u001b[0m\n\u001b[0;31m    covid_path = content/drive/MyDrive/COVID Detection/CT_COVID\u001b[0m\n\u001b[0m                                             ^\u001b[0m\n\u001b[0;31mSyntaxError\u001b[0m\u001b[0;31m:\u001b[0m invalid syntax\n"
          ]
        }
      ]
    },
    {
      "cell_type": "code",
      "source": [],
      "metadata": {
        "id": "R5ImvHYSHJxw"
      },
      "execution_count": null,
      "outputs": []
    },
    {
      "cell_type": "code",
      "source": [
        "# Visualize file variable contents\n",
        "print(First 5 Covid Files:covid_files[0:5])\n",
        "print(Total Count:len(covid_files))\n",
        "print(First 5 NonCovid Files: noncovid_files[0:5])\n",
        "print(Total Count:len(noncovid_files))\n",
        "\n",
        ""
      ],
      "metadata": {
        "colab": {
          "base_uri": "https://localhost:8080/",
          "height": 140
        },
        "id": "gA87tVno_SlY",
        "outputId": "2d3aaf01-da8d-459c-8805-8bcd3e37b19d"
      },
      "execution_count": 22,
      "outputs": [
        {
          "output_type": "error",
          "ename": "SyntaxError",
          "evalue": "invalid syntax. Perhaps you forgot a comma? (<ipython-input-22-4fd7d0c6bd45>, line 2)",
          "traceback": [
            "\u001b[0;36m  File \u001b[0;32m\"<ipython-input-22-4fd7d0c6bd45>\"\u001b[0;36m, line \u001b[0;32m2\u001b[0m\n\u001b[0;31m    print(First 5 Covid Files:covid_files[0:5])\u001b[0m\n\u001b[0m          ^\u001b[0m\n\u001b[0;31mSyntaxError\u001b[0m\u001b[0;31m:\u001b[0m invalid syntax. Perhaps you forgot a comma?\n"
          ]
        }
      ]
    },
    {
      "cell_type": "code",
      "source": [
        "#Fetch Images and Class Labels from Files\n",
        "covid_labels = []\n",
        "noncovid_labels = []\n",
        "covid_images=[]\n",
        "noncovid_images=[]\n",
        "for i in range(len(covid_files))\n",
        "image = cv2.imread(covid_files[i]) # read file\n",
        "image = cv2.cvtColor(image, cv2.COLOR_BGR2RGB) # arrange format as per keras\n",
        "image = cv2.resize(image,(224,224)) # resize as per model\n",
        "covid_images.append(image) # append image\n",
        "covid_labels.append('CT_COVID') #append class label\n",
        "for i in range(len(noncovid_files))\n",
        "image = cv2.imread(noncovid_files[i])\n",
        "image = cv2.cvtColor(image, cv2.COLOR_BGR2RGB)\n",
        "image = cv2.resize(image,(224,224))\n",
        "noncovid_images.append(image)\n",
        "noncovid_labels.append('CT_NonCOVID')\n"
      ],
      "metadata": {
        "colab": {
          "base_uri": "https://localhost:8080/",
          "height": 140
        },
        "id": "JDpcdY51_Ssw",
        "outputId": "f11639f7-ad98-4649-d644-46efd7834797"
      },
      "execution_count": 29,
      "outputs": [
        {
          "output_type": "error",
          "ename": "SyntaxError",
          "evalue": "expected ':' (<ipython-input-29-dda5c8759087>, line 6)",
          "traceback": [
            "\u001b[0;36m  File \u001b[0;32m\"<ipython-input-29-dda5c8759087>\"\u001b[0;36m, line \u001b[0;32m6\u001b[0m\n\u001b[0;31m    for i in range(len(covid_files))\u001b[0m\n\u001b[0m                                    ^\u001b[0m\n\u001b[0;31mSyntaxError\u001b[0m\u001b[0;31m:\u001b[0m expected ':'\n"
          ]
        }
      ]
    },
    {
      "cell_type": "code",
      "source": [
        " # Visualize First 40 Images from Data set"
      ],
      "metadata": {
        "id": "7nycyspc_Swa"
      },
      "execution_count": 24,
      "outputs": []
    }
  ]
}